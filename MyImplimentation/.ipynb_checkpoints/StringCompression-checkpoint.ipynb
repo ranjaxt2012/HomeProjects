{
 "cells": [
  {
   "cell_type": "code",
   "execution_count": 22,
   "metadata": {},
   "outputs": [],
   "source": [
    "def StringCompression(s):\n",
    "    comp_string = {}\n",
    "    \n",
    "    #Add numbers to the map with count up\n",
    "    for l in s:\n",
    "        if l in comp_string:\n",
    "            comp_string[l] +=1\n",
    "        else:\n",
    "            comp_string[l] = 1\n",
    "    \n",
    "    # Build a return String\n",
    "    return_string = \"\"\n",
    "    for l in comp_string:\n",
    "        return_string = return_string+str(l)+str(comp_string[l])\n",
    "    return return_string\n"
   ]
  },
  {
   "cell_type": "code",
   "execution_count": 23,
   "metadata": {},
   "outputs": [
    {
     "name": "stdout",
     "output_type": "stream",
     "text": [
      "{'A': 2, 'B': 2}\n"
     ]
    },
    {
     "data": {
      "text/plain": [
       "'A2B2'"
      ]
     },
     "execution_count": 23,
     "metadata": {},
     "output_type": "execute_result"
    }
   ],
   "source": [
    "StringCompression('AABB')"
   ]
  },
  {
   "cell_type": "code",
   "execution_count": null,
   "metadata": {},
   "outputs": [],
   "source": []
  }
 ],
 "metadata": {
  "kernelspec": {
   "display_name": "Python 3",
   "language": "python",
   "name": "python3"
  },
  "language_info": {
   "codemirror_mode": {
    "name": "ipython",
    "version": 3
   },
   "file_extension": ".py",
   "mimetype": "text/x-python",
   "name": "python",
   "nbconvert_exporter": "python",
   "pygments_lexer": "ipython3",
   "version": "3.6.5"
  }
 },
 "nbformat": 4,
 "nbformat_minor": 2
}
