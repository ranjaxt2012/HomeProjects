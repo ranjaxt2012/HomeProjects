{
 "cells": [
  {
   "cell_type": "code",
   "execution_count": 10,
   "metadata": {},
   "outputs": [
    {
     "name": "stdout",
     "output_type": "stream",
     "text": [
      "1 2\n"
     ]
    }
   ],
   "source": [
    "def ArrayPairSum1(arr, k):\n",
    "    seen = arr\n",
    "    for x in range(len(arr)-1):\n",
    "        for y in range(len(arr)-1):\n",
    "            check_sum = arr[x] + arr[y+1]\n",
    "            if check_sum ==k:\n",
    "                print (\"found a pair\", arr[x], arr[y+1])\n",
    "        \n",
    "def ArrayPairSum2(arr,k):\n",
    "    counter = 0\n",
    "    lookup = set()\n",
    "    for num in arr:\n",
    "        if k-num in lookup:\n",
    "            print(k-num, num)\n",
    "        else:\n",
    "            lookup.add(num)\n",
    "# ArrayPairSum1([2,2,3,1],4)\n",
    "ArrayPairSum2([1,2,3,1],3)"
   ]
  },
  {
   "cell_type": "code",
   "execution_count": null,
   "metadata": {},
   "outputs": [],
   "source": []
  },
  {
   "cell_type": "code",
   "execution_count": null,
   "metadata": {},
   "outputs": [],
   "source": []
  },
  {
   "cell_type": "code",
   "execution_count": null,
   "metadata": {},
   "outputs": [],
   "source": []
  }
 ],
 "metadata": {
  "kernelspec": {
   "display_name": "Python 3",
   "language": "python",
   "name": "python3"
  },
  "language_info": {
   "codemirror_mode": {
    "name": "ipython",
    "version": 3
   },
   "file_extension": ".py",
   "mimetype": "text/x-python",
   "name": "python",
   "nbconvert_exporter": "python",
   "pygments_lexer": "ipython3",
   "version": "3.6.5"
  }
 },
 "nbformat": 4,
 "nbformat_minor": 2
}
