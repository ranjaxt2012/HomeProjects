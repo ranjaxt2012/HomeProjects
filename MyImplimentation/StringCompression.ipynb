{
 "cells": [
  {
   "cell_type": "code",
   "execution_count": 24,
   "metadata": {},
   "outputs": [],
   "source": [
    "def StringCompression(s):\n",
    "    comp_string = {}\n",
    "    \n",
    "    #Add numbers to the map with count up\n",
    "    for l in s:\n",
    "        if l in comp_string:\n",
    "            comp_string[l] +=1\n",
    "        else:\n",
    "            comp_string[l] = 1\n",
    "    \n",
    "    # Build a return String\n",
    "    return_string = \"\"\n",
    "    for l in comp_string:\n",
    "        return_string = return_string+str(l)+str(comp_string[l])\n",
    "    return return_string\n"
   ]
  },
  {
   "cell_type": "code",
   "execution_count": 27,
   "metadata": {},
   "outputs": [
    {
     "data": {
      "text/plain": [
       "'A3B1C2D5'"
      ]
     },
     "execution_count": 27,
     "metadata": {},
     "output_type": "execute_result"
    }
   ],
   "source": [
    "StringCompression('AAABCCDDDDD')"
   ]
  },
  {
   "cell_type": "code",
   "execution_count": null,
   "metadata": {},
   "outputs": [],
   "source": []
  }
 ],
 "metadata": {
  "kernelspec": {
   "display_name": "Python 3",
   "language": "python",
   "name": "python3"
  },
  "language_info": {
   "codemirror_mode": {
    "name": "ipython",
    "version": 3
   },
   "file_extension": ".py",
   "mimetype": "text/x-python",
   "name": "python",
   "nbconvert_exporter": "python",
   "pygments_lexer": "ipython3",
   "version": "3.6.5"
  }
 },
 "nbformat": 4,
 "nbformat_minor": 2
}
