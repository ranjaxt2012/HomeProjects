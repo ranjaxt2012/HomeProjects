{
 "cells": [
  {
   "cell_type": "code",
   "execution_count": 14,
   "metadata": {},
   "outputs": [
    {
     "name": "stdout",
     "output_type": "stream",
     "text": [
      "True\n"
     ]
    }
   ],
   "source": [
    "def AnagramCheck(str_a, str_b):\n",
    "\n",
    "    # Remove Spaces\n",
    "    str_a = str_a.replace(\" \", \"\").lower()    \n",
    "    str_b = str_b.replace(\" \", \"\").lower()\n",
    "    \n",
    "    # EdgeCase, \n",
    "    # Quick check to see if both are duplicate\n",
    "    if str_a==str_b:\n",
    "        print (\"Same Strings \\n\")\n",
    "        return True\n",
    "    \n",
    "    string_letter_count = {}\n",
    "    for a in str_a:\n",
    "        if a in string_letter_count:\n",
    "            string_letter_count[a] +=1\n",
    "        else:\n",
    "            string_letter_count[a]=1\n",
    "\n",
    "    for b in str_b:\n",
    "        if b in string_letter_count:\n",
    "            string_letter_count[b] -=1\n",
    "        else:\n",
    "            string_letter_count[b]=1  \n",
    "\n",
    "    for k in string_letter_count:\n",
    "        if string_letter_count[k] != 0:\n",
    "            return False\n",
    "    return True\n",
    "    \n",
    "print(AnagramCheck('123','132'))"
   ]
  },
  {
   "cell_type": "markdown",
   "metadata": {},
   "source": [
    "#### "
   ]
  },
  {
   "cell_type": "code",
   "execution_count": null,
   "metadata": {},
   "outputs": [],
   "source": []
  }
 ],
 "metadata": {
  "kernelspec": {
   "display_name": "Python 3",
   "language": "python",
   "name": "python3"
  },
  "language_info": {
   "codemirror_mode": {
    "name": "ipython",
    "version": 3
   },
   "file_extension": ".py",
   "mimetype": "text/x-python",
   "name": "python",
   "nbconvert_exporter": "python",
   "pygments_lexer": "ipython3",
   "version": "3.6.5"
  }
 },
 "nbformat": 4,
 "nbformat_minor": 2
}
