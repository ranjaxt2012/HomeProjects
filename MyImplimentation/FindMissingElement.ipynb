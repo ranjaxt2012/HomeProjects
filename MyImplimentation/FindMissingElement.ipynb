{
 "cells": [
  {
   "cell_type": "code",
   "execution_count": 12,
   "metadata": {},
   "outputs": [],
   "source": [
    "import collections \n",
    "\n",
    "def finder(arr_x, arr_y):\n",
    "    arr_x.sort()\n",
    "    arr_y.sort()\n",
    "    print (arr_x)\n",
    "    print (arr_y)\n",
    "    for n in range(len(arr_x)):\n",
    "        if arr_x[n] !=arr_y[n]:\n",
    "            return arr_x[n]\n",
    "    return (arr_x[len(arr_x)-1])\n",
    "\n",
    "def finder2(arr_x, arr_y):\n",
    "    d=collections.defaultdict(int)\n",
    "    for y in arr_y:\n",
    "        d[y]+=1 \n",
    "\n",
    "    for x in arr_x:\n",
    "        if d[x] ==0:\n",
    "            return x"
   ]
  },
  {
   "cell_type": "code",
   "execution_count": 13,
   "metadata": {},
   "outputs": [
    {
     "name": "stdout",
     "output_type": "stream",
     "text": [
      "Missing number \n"
     ]
    },
    {
     "data": {
      "text/plain": [
       "5"
      ]
     },
     "execution_count": 13,
     "metadata": {},
     "output_type": "execute_result"
    }
   ],
   "source": [
    "\n",
    "arr1 = [1,2,3,4,5,6,7]\n",
    "arr2 = [3,7,2,1,4,6]\n",
    "# finder(arr1,arr2)\n",
    "finder2(arr1,arr2)"
   ]
  },
  {
   "cell_type": "code",
   "execution_count": null,
   "metadata": {},
   "outputs": [],
   "source": []
  }
 ],
 "metadata": {
  "kernelspec": {
   "display_name": "Python 3",
   "language": "python",
   "name": "python3"
  },
  "language_info": {
   "codemirror_mode": {
    "name": "ipython",
    "version": 3
   },
   "file_extension": ".py",
   "mimetype": "text/x-python",
   "name": "python",
   "nbconvert_exporter": "python",
   "pygments_lexer": "ipython3",
   "version": "3.6.5"
  }
 },
 "nbformat": 4,
 "nbformat_minor": 2
}
