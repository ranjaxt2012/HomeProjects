{
 "cells": [
  {
   "cell_type": "code",
   "execution_count": 184,
   "metadata": {},
   "outputs": [],
   "source": [
    "# Solution Complexity 2n\n",
    "def reversal(s):\n",
    "    words=[]\n",
    "    length = len(s)-1\n",
    "    temp_string = \"\"\n",
    "    \n",
    "    # Word Split Function With Space\n",
    "    for w in s:\n",
    "        if w !=\" \":\n",
    "            temp_string = temp_string+w\n",
    "        if w == \" \" and temp_string != \"\": \n",
    "            words.append(temp_string)\n",
    "            temp_string = \"\"\n",
    "            \n",
    "    if temp_string != \"\":\n",
    "        words.append(temp_string)        \n",
    "    \n",
    "    # Reverse String and Add it up to last Item\n",
    "    reverse_string = \"\"\n",
    "    words_length = len(words)-1\n",
    "    \n",
    "    while words_length >= 0:\n",
    "        \n",
    "        reverse_string = reverse_string + words[words_length] \n",
    "        \n",
    "        if words_length != 0:\n",
    "            reverse_string += \" \"\n",
    "        words_length -= 1\n",
    "        \n",
    "    return reverse_string"
   ]
  },
  {
   "cell_type": "code",
   "execution_count": 186,
   "metadata": {},
   "outputs": [
    {
     "data": {
      "text/plain": [
       "'before space'"
      ]
     },
     "execution_count": 186,
     "metadata": {},
     "output_type": "execute_result"
    }
   ],
   "source": [
    "# reversal('    space before')\n",
    "# reversal('space after             ')\n",
    "# reversal('   Hello John    how are you   ')\n",
    "# reversal('1')"
   ]
  },
  {
   "cell_type": "code",
   "execution_count": null,
   "metadata": {},
   "outputs": [],
   "source": []
  },
  {
   "cell_type": "code",
   "execution_count": null,
   "metadata": {},
   "outputs": [],
   "source": []
  }
 ],
 "metadata": {
  "kernelspec": {
   "display_name": "Python 3",
   "language": "python",
   "name": "python3"
  }
 },
 "nbformat": 4,
 "nbformat_minor": 2
}
