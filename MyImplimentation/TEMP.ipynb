{
 "cells": [
  {
   "cell_type": "code",
   "execution_count": 25,
   "metadata": {},
   "outputs": [
    {
     "name": "stdout",
     "output_type": "stream",
     "text": [
      "{1: ['a', 'c'], 2: ['a'], 3: ['a', 'c'], 4: ['b'], 5: ['b', 'c'], 6: ['b']}\n",
      "{1: ['a', 'c'], 2: ['a'], 3: ['a', 'c'], 5: ['b', 'c'], 6: ['b']}\n"
     ]
    }
   ],
   "source": [
    "ServiceList = {\"a\": {1, 2, 3},\n",
    "               \"b\": {4, 5, 6},\n",
    "               \"c\": {1, 5, 3}\n",
    "               }\n",
    "\n",
    "\n",
    "def GetServiceRegistryByServer(ServiceList):\n",
    "    ServiceListByServer = {}\n",
    "    for ServiceName in ServiceList:\n",
    "\n",
    "        for ServerName in ServiceList[ServiceName]:\n",
    "            if ServerName in ServiceListByServer:\n",
    "                EXISTING_VALUES = ServiceListByServer[ServerName]\n",
    "                EXISTING_VALUES.append(ServiceName)\n",
    "                ServiceListByServer[ServerName] = EXISTING_VALUES\n",
    "            else:\n",
    "                ServiceListByServer[ServerName] = [ServiceName]\n",
    "\n",
    "    return ServiceListByServer\n",
    "ServiceListByServer = GetServiceRegistryByServer(ServiceList)\n",
    "print (ServiceListByServer)\n",
    "ServiceListByServer.pop(4)\n",
    "print (ServiceListByServer)"
   ]
  },
  {
   "cell_type": "code",
   "execution_count": null,
   "metadata": {},
   "outputs": [],
   "source": []
  },
  {
   "cell_type": "code",
   "execution_count": null,
   "metadata": {},
   "outputs": [],
   "source": []
  }
 ],
 "metadata": {
  "kernelspec": {
   "display_name": "Python 3",
   "language": "python",
   "name": "python3"
  },
  "language_info": {
   "codemirror_mode": {
    "name": "ipython",
    "version": 3
   },
   "file_extension": ".py",
   "mimetype": "text/x-python",
   "name": "python",
   "nbconvert_exporter": "python",
   "pygments_lexer": "ipython3",
   "version": "3.6.5"
  }
 },
 "nbformat": 4,
 "nbformat_minor": 2
}
